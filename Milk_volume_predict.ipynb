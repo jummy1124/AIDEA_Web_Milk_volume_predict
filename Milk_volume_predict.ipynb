{
 "cells": [
  {
   "cell_type": "code",
   "execution_count": 1,
   "metadata": {},
   "outputs": [
    {
     "name": "stderr",
     "output_type": "stream",
     "text": [
      "D:\\Anaconda3\\lib\\site-packages\\IPython\\core\\interactiveshell.py:3058: DtypeWarning: Columns (6) have mixed types. Specify dtype option on import or set low_memory=False.\n",
      "  interactivity=interactivity, compiler=compiler, result=result)\n"
     ]
    },
    {
     "data": {
      "text/html": [
       "<div>\n",
       "<style scoped>\n",
       "    .dataframe tbody tr th:only-of-type {\n",
       "        vertical-align: middle;\n",
       "    }\n",
       "\n",
       "    .dataframe tbody tr th {\n",
       "        vertical-align: top;\n",
       "    }\n",
       "\n",
       "    .dataframe thead th {\n",
       "        text-align: right;\n",
       "    }\n",
       "</style>\n",
       "<table border=\"1\" class=\"dataframe\">\n",
       "  <thead>\n",
       "    <tr style=\"text-align: right;\">\n",
       "      <th></th>\n",
       "      <th>1</th>\n",
       "      <th>2</th>\n",
       "      <th>3</th>\n",
       "      <th>4</th>\n",
       "      <th>5</th>\n",
       "      <th>6</th>\n",
       "      <th>7</th>\n",
       "      <th>8</th>\n",
       "      <th>9</th>\n",
       "      <th>10</th>\n",
       "      <th>...</th>\n",
       "      <th>12</th>\n",
       "      <th>13</th>\n",
       "      <th>14</th>\n",
       "      <th>15</th>\n",
       "      <th>16</th>\n",
       "      <th>17</th>\n",
       "      <th>18</th>\n",
       "      <th>19</th>\n",
       "      <th>20</th>\n",
       "      <th>21</th>\n",
       "    </tr>\n",
       "  </thead>\n",
       "  <tbody>\n",
       "    <tr>\n",
       "      <th>0</th>\n",
       "      <td>1</td>\n",
       "      <td>2013</td>\n",
       "      <td>3</td>\n",
       "      <td>A</td>\n",
       "      <td>52612</td>\n",
       "      <td>507H7173</td>\n",
       "      <td>96040545</td>\n",
       "      <td>2011/1/1 00:00</td>\n",
       "      <td>1</td>\n",
       "      <td>78.0</td>\n",
       "      <td>...</td>\n",
       "      <td>2013/1/1 00:00</td>\n",
       "      <td>2013/3/20 00:00</td>\n",
       "      <td>26</td>\n",
       "      <td>2013/3/21 00:00</td>\n",
       "      <td>2015/5/5 00:00</td>\n",
       "      <td>507H11621</td>\n",
       "      <td>1</td>\n",
       "      <td>NaN</td>\n",
       "      <td>2013/3/5 00:00</td>\n",
       "      <td>501H8784</td>\n",
       "    </tr>\n",
       "    <tr>\n",
       "      <th>1</th>\n",
       "      <td>2</td>\n",
       "      <td>2013</td>\n",
       "      <td>4</td>\n",
       "      <td>A</td>\n",
       "      <td>52612</td>\n",
       "      <td>507H7173</td>\n",
       "      <td>96040545</td>\n",
       "      <td>2011/1/1 00:00</td>\n",
       "      <td>1</td>\n",
       "      <td>107.0</td>\n",
       "      <td>...</td>\n",
       "      <td>2013/1/1 00:00</td>\n",
       "      <td>2013/4/18 00:00</td>\n",
       "      <td>27</td>\n",
       "      <td>2013/4/19 00:00</td>\n",
       "      <td>2015/5/5 00:00</td>\n",
       "      <td>507H11621</td>\n",
       "      <td>1</td>\n",
       "      <td>NaN</td>\n",
       "      <td>2013/3/5 00:00</td>\n",
       "      <td>501H8784</td>\n",
       "    </tr>\n",
       "    <tr>\n",
       "      <th>2</th>\n",
       "      <td>3</td>\n",
       "      <td>2013</td>\n",
       "      <td>5</td>\n",
       "      <td>A</td>\n",
       "      <td>52612</td>\n",
       "      <td>507H7173</td>\n",
       "      <td>96040545</td>\n",
       "      <td>2011/1/1 00:00</td>\n",
       "      <td>1</td>\n",
       "      <td>140.0</td>\n",
       "      <td>...</td>\n",
       "      <td>2013/1/1 00:00</td>\n",
       "      <td>2013/5/21 00:00</td>\n",
       "      <td>28</td>\n",
       "      <td>2013/5/22 00:00</td>\n",
       "      <td>2015/5/5 00:00</td>\n",
       "      <td>507H11621</td>\n",
       "      <td>2</td>\n",
       "      <td>NaN</td>\n",
       "      <td>2013/3/5 00:00</td>\n",
       "      <td>501H8784</td>\n",
       "    </tr>\n",
       "    <tr>\n",
       "      <th>3</th>\n",
       "      <td>4</td>\n",
       "      <td>2013</td>\n",
       "      <td>6</td>\n",
       "      <td>A</td>\n",
       "      <td>52612</td>\n",
       "      <td>507H7173</td>\n",
       "      <td>96040545</td>\n",
       "      <td>2011/1/1 00:00</td>\n",
       "      <td>1</td>\n",
       "      <td>175.0</td>\n",
       "      <td>...</td>\n",
       "      <td>2013/1/1 00:00</td>\n",
       "      <td>2013/6/25 00:00</td>\n",
       "      <td>29</td>\n",
       "      <td>2013/6/26 00:00</td>\n",
       "      <td>2015/5/5 00:00</td>\n",
       "      <td>507H11621</td>\n",
       "      <td>2</td>\n",
       "      <td>NaN</td>\n",
       "      <td>2013/3/5 00:00</td>\n",
       "      <td>501H8784</td>\n",
       "    </tr>\n",
       "    <tr>\n",
       "      <th>4</th>\n",
       "      <td>5</td>\n",
       "      <td>2013</td>\n",
       "      <td>7</td>\n",
       "      <td>A</td>\n",
       "      <td>52612</td>\n",
       "      <td>507H7173</td>\n",
       "      <td>96040545</td>\n",
       "      <td>2011/1/1 00:00</td>\n",
       "      <td>1</td>\n",
       "      <td>210.0</td>\n",
       "      <td>...</td>\n",
       "      <td>2013/1/1 00:00</td>\n",
       "      <td>2013/7/30 00:00</td>\n",
       "      <td>30</td>\n",
       "      <td>2013/7/31 00:00</td>\n",
       "      <td>2015/5/5 00:00</td>\n",
       "      <td>507H11621</td>\n",
       "      <td>2</td>\n",
       "      <td>NaN</td>\n",
       "      <td>2013/3/5 00:00</td>\n",
       "      <td>501H8784</td>\n",
       "    </tr>\n",
       "  </tbody>\n",
       "</table>\n",
       "<p>5 rows × 21 columns</p>\n",
       "</div>"
      ],
      "text/plain": [
       "   1     2  3  4      5         6         7               8  9     10  ...  \\\n",
       "0  1  2013  3  A  52612  507H7173  96040545  2011/1/1 00:00  1   78.0  ...   \n",
       "1  2  2013  4  A  52612  507H7173  96040545  2011/1/1 00:00  1  107.0  ...   \n",
       "2  3  2013  5  A  52612  507H7173  96040545  2011/1/1 00:00  1  140.0  ...   \n",
       "3  4  2013  6  A  52612  507H7173  96040545  2011/1/1 00:00  1  175.0  ...   \n",
       "4  5  2013  7  A  52612  507H7173  96040545  2011/1/1 00:00  1  210.0  ...   \n",
       "\n",
       "               12               13  14               15              16  \\\n",
       "0  2013/1/1 00:00  2013/3/20 00:00  26  2013/3/21 00:00  2015/5/5 00:00   \n",
       "1  2013/1/1 00:00  2013/4/18 00:00  27  2013/4/19 00:00  2015/5/5 00:00   \n",
       "2  2013/1/1 00:00  2013/5/21 00:00  28  2013/5/22 00:00  2015/5/5 00:00   \n",
       "3  2013/1/1 00:00  2013/6/25 00:00  29  2013/6/26 00:00  2015/5/5 00:00   \n",
       "4  2013/1/1 00:00  2013/7/30 00:00  30  2013/7/31 00:00  2015/5/5 00:00   \n",
       "\n",
       "          17 18   19              20        21  \n",
       "0  507H11621  1  NaN  2013/3/5 00:00  501H8784  \n",
       "1  507H11621  1  NaN  2013/3/5 00:00  501H8784  \n",
       "2  507H11621  2  NaN  2013/3/5 00:00  501H8784  \n",
       "3  507H11621  2  NaN  2013/3/5 00:00  501H8784  \n",
       "4  507H11621  2  NaN  2013/3/5 00:00  501H8784  \n",
       "\n",
       "[5 rows x 21 columns]"
      ]
     },
     "execution_count": 1,
     "metadata": {},
     "output_type": "execute_result"
    }
   ],
   "source": [
    "import pandas as pd\n",
    "\n",
    "train=pd.read_csv('./train.csv',sep=',')\n",
    "test=pd.read_csv('./test.csv',sep=',')\n",
    "spec=pd.read_csv('./spec.csv',sep=',')\n",
    "birth= pd.read_csv('./birth.csv',sep=',')\n",
    "train.head()"
   ]
  },
  {
   "cell_type": "code",
   "execution_count": 2,
   "metadata": {},
   "outputs": [],
   "source": [
    "#設定可能需要的欄位\n",
    "\n",
    "new_train=pd.DataFrame(data=train,columns=['3','4','5','6','7','9','11','10','14','18','21','season','times','health','weight'])\n",
    "new_test=pd.DataFrame(data=test,columns=['3','4','5','6','7','9','10','14','18','21','season','times','health','weight'])"
   ]
  },
  {
   "cell_type": "code",
   "execution_count": 3,
   "metadata": {},
   "outputs": [
    {
     "name": "stdout",
     "output_type": "stream",
     "text": [
      "原本的訓練資料集: (33254, 15)\n",
      "經過挑選後的訓練資料集: (31806, 16)\n"
     ]
    }
   ],
   "source": [
    "#train有不需要判斷的編號就去掉\n",
    "print(\"原本的訓練資料集:\",new_train.shape)\n",
    "for i in range(len(new_test['5'])):\n",
    "    if len(new_train.index[new_train['5'] == new_test['5'][i]]) == 0:\n",
    "        new_train=new_train.drop([i])\n",
    "new_train.reset_index(inplace=True)\n",
    "# new_train\n",
    "print(\"經過挑選後的訓練資料集:\",new_train.shape)"
   ]
  },
  {
   "cell_type": "code",
   "execution_count": 4,
   "metadata": {},
   "outputs": [
    {
     "name": "stdout",
     "output_type": "stream",
     "text": [
      "原本的訓練資料集: (31806, 16)\n",
      "移除異常值後的訓練資料集: (31741, 16)\n"
     ]
    }
   ],
   "source": [
    "#去除乳量為0的資料\n",
    "cnt=0\n",
    "print(\"原本的訓練資料集:\",new_train.shape)\n",
    "for i in range(len(new_train['11'])):\n",
    "    if new_train['11'][i]==0:\n",
    "        new_train=new_train.drop([i])\n",
    "    # cnt+=1\n",
    "# print(cnt)\n",
    "print(\"移除異常值後的訓練資料集:\",new_train.shape)"
   ]
  },
  {
   "cell_type": "code",
   "execution_count": 5,
   "metadata": {},
   "outputs": [],
   "source": [
    "#對缺值補植\n",
    "new_train['6']=new_train['6'].fillna(\"NoData\").astype(\"str\")\n",
    "new_test['6']=new_test['6'].fillna(\"NoData\").astype(\"str\")\n",
    "new_train['7']=new_train['7'].fillna(\"NoData\").astype(\"str\")\n",
    "new_test['7']=new_test['7'].fillna(\"NoData\").astype(\"str\")\n",
    "new_train['21']=new_train['21'].fillna(\"NoData\").astype(\"str\")\n",
    "new_test['21']=new_test['21'].fillna(\"NoData\").astype(\"str\")\n",
    "avg_weight = birth['6'].mean()\n",
    "birth['6'] = birth['6'].fillna(birth['6'].mean())\n",
    "\n",
    "new_train.dropna(subset=['10','6','7'], inplace=True)\n",
    "\n",
    "new_train['year']=train['2']\n",
    "new_test['year']=test['2']"
   ]
  },
  {
   "cell_type": "code",
   "execution_count": 6,
   "metadata": {},
   "outputs": [
    {
     "name": "stderr",
     "output_type": "stream",
     "text": [
      "D:\\Anaconda3\\lib\\site-packages\\ipykernel_launcher.py:8: SettingWithCopyWarning: \n",
      "A value is trying to be set on a copy of a slice from a DataFrame\n",
      "\n",
      "See the caveats in the documentation: http://pandas.pydata.org/pandas-docs/stable/user_guide/indexing.html#returning-a-view-versus-a-copy\n",
      "  \n",
      "D:\\Anaconda3\\lib\\site-packages\\ipykernel_launcher.py:12: SettingWithCopyWarning: \n",
      "A value is trying to be set on a copy of a slice from a DataFrame\n",
      "\n",
      "See the caveats in the documentation: http://pandas.pydata.org/pandas-docs/stable/user_guide/indexing.html#returning-a-view-versus-a-copy\n",
      "  if sys.path[0] == '':\n",
      "D:\\Anaconda3\\lib\\site-packages\\ipykernel_launcher.py:17: SettingWithCopyWarning: \n",
      "A value is trying to be set on a copy of a slice from a DataFrame\n",
      "\n",
      "See the caveats in the documentation: http://pandas.pydata.org/pandas-docs/stable/user_guide/indexing.html#returning-a-view-versus-a-copy\n",
      "D:\\Anaconda3\\lib\\site-packages\\ipykernel_launcher.py:20: SettingWithCopyWarning: \n",
      "A value is trying to be set on a copy of a slice from a DataFrame\n",
      "\n",
      "See the caveats in the documentation: http://pandas.pydata.org/pandas-docs/stable/user_guide/indexing.html#returning-a-view-versus-a-copy\n"
     ]
    }
   ],
   "source": [
    "##train對上疾病資料，當年當月有病就1，反之0\n",
    "from datetime import datetime\n",
    "for i in range(len(spec)):\n",
    "    dd=datetime.strptime(spec['4'][i], \"%Y/%m/%d %H:%M\")\n",
    "    if len(new_train.index[new_train['5'] == spec['1'][i]])>0:\n",
    "        for j in new_train.index[new_train['5'] == spec['1'][i]]:\n",
    "            if new_train['year'][j] == dd.year and new_train['3'][j] == dd.month and new_train['4'][j]==spec['7'][i]:\n",
    "                new_train['health'][j] = 1\n",
    "    if len(new_test.index[new_test['5'] == spec['1'][i]])>0:\n",
    "        for j in new_test.index[new_test['5'] == spec['1'][i]]:\n",
    "            if new_test['year'][j] == dd.year and new_test['3'][j] == dd.month and new_test['4'][j]==spec['7'][i]:\n",
    "                new_test['health'][j] = 1\n",
    "                \n",
    "for i in range(len(birth)):\n",
    "    if len(new_train.index[new_train['5'] == birth['1'][i]])>0:\n",
    "        for j in new_train.index[new_train['5'] == birth['1'][i]]:\n",
    "                new_train['weight'][j] = birth['6'][i]\n",
    "    if len(new_test.index[new_test['5'] == birth['1'][i]])>0:\n",
    "        for j in new_test.index[new_test['5'] == birth['1'][i]]:\n",
    "                new_test['weight'][j] = birth['6'][i]\n",
    "new_train['weight'] = new_train['weight'].fillna(avg_weight)\n",
    "new_test['weight'] = new_test['weight'].fillna(avg_weight)"
   ]
  },
  {
   "cell_type": "code",
   "execution_count": 7,
   "metadata": {},
   "outputs": [],
   "source": [
    "#對缺值補植\n",
    "new_train=new_train.fillna(0)\n",
    "new_test=new_test.fillna(0)"
   ]
  },
  {
   "cell_type": "code",
   "execution_count": 8,
   "metadata": {},
   "outputs": [],
   "source": [
    "#重新整理索引值\n",
    "new_train.reset_index(inplace=True)"
   ]
  },
  {
   "cell_type": "code",
   "execution_count": 9,
   "metadata": {},
   "outputs": [
    {
     "name": "stderr",
     "output_type": "stream",
     "text": [
      "D:\\Anaconda3\\lib\\site-packages\\ipykernel_launcher.py:4: SettingWithCopyWarning: \n",
      "A value is trying to be set on a copy of a slice from a DataFrame\n",
      "\n",
      "See the caveats in the documentation: http://pandas.pydata.org/pandas-docs/stable/user_guide/indexing.html#returning-a-view-versus-a-copy\n",
      "  after removing the cwd from sys.path.\n",
      "D:\\Anaconda3\\lib\\site-packages\\pandas\\core\\indexing.py:202: SettingWithCopyWarning: \n",
      "A value is trying to be set on a copy of a slice from a DataFrame\n",
      "\n",
      "See the caveats in the documentation: http://pandas.pydata.org/pandas-docs/stable/user_guide/indexing.html#returning-a-view-versus-a-copy\n",
      "  self._setitem_with_indexer(indexer, value)\n",
      "D:\\Anaconda3\\lib\\site-packages\\ipykernel_launcher.py:6: SettingWithCopyWarning: \n",
      "A value is trying to be set on a copy of a slice from a DataFrame\n",
      "\n",
      "See the caveats in the documentation: http://pandas.pydata.org/pandas-docs/stable/user_guide/indexing.html#returning-a-view-versus-a-copy\n",
      "  \n",
      "D:\\Anaconda3\\lib\\site-packages\\ipykernel_launcher.py:8: SettingWithCopyWarning: \n",
      "A value is trying to be set on a copy of a slice from a DataFrame\n",
      "\n",
      "See the caveats in the documentation: http://pandas.pydata.org/pandas-docs/stable/user_guide/indexing.html#returning-a-view-versus-a-copy\n",
      "  \n",
      "D:\\Anaconda3\\lib\\site-packages\\ipykernel_launcher.py:10: SettingWithCopyWarning: \n",
      "A value is trying to be set on a copy of a slice from a DataFrame\n",
      "\n",
      "See the caveats in the documentation: http://pandas.pydata.org/pandas-docs/stable/user_guide/indexing.html#returning-a-view-versus-a-copy\n",
      "  # Remove the CWD from sys.path while we load stuff.\n",
      "D:\\Anaconda3\\lib\\site-packages\\ipykernel_launcher.py:20: SettingWithCopyWarning: \n",
      "A value is trying to be set on a copy of a slice from a DataFrame\n",
      "\n",
      "See the caveats in the documentation: http://pandas.pydata.org/pandas-docs/stable/user_guide/indexing.html#returning-a-view-versus-a-copy\n",
      "D:\\Anaconda3\\lib\\site-packages\\ipykernel_launcher.py:14: SettingWithCopyWarning: \n",
      "A value is trying to be set on a copy of a slice from a DataFrame\n",
      "\n",
      "See the caveats in the documentation: http://pandas.pydata.org/pandas-docs/stable/user_guide/indexing.html#returning-a-view-versus-a-copy\n",
      "  \n",
      "D:\\Anaconda3\\lib\\site-packages\\ipykernel_launcher.py:16: SettingWithCopyWarning: \n",
      "A value is trying to be set on a copy of a slice from a DataFrame\n",
      "\n",
      "See the caveats in the documentation: http://pandas.pydata.org/pandas-docs/stable/user_guide/indexing.html#returning-a-view-versus-a-copy\n",
      "  app.launch_new_instance()\n",
      "D:\\Anaconda3\\lib\\site-packages\\ipykernel_launcher.py:18: SettingWithCopyWarning: \n",
      "A value is trying to be set on a copy of a slice from a DataFrame\n",
      "\n",
      "See the caveats in the documentation: http://pandas.pydata.org/pandas-docs/stable/user_guide/indexing.html#returning-a-view-versus-a-copy\n"
     ]
    }
   ],
   "source": [
    "#季節設定\n",
    "for i in range(len(new_train['3'])):\n",
    "    if int(new_train['3'][i]) >=3 and int(new_train['3'][i])<=5:\n",
    "        new_train['season'][i] = \"Spring\"\n",
    "    elif int(new_train['3'][i]) >=6 and int(new_train['3'][i])<=8:\n",
    "        new_train['season'][i] = \"Summer\"\n",
    "    elif int(new_train['3'][i]) >=9 and int(new_train['3'][i])<=11:\n",
    "        new_train['season'][i] = \"Autumn\"\n",
    "    else:\n",
    "        new_train['season'][i] = \"Winter\"\n",
    "        \n",
    "for i in range(len(new_test['3'])):\n",
    "    if int(new_test['3'][i]) >=3 and int(new_test['3'][i])<=5:\n",
    "        new_test['season'][i] = \"Spring\"\n",
    "    elif int(new_test['3'][i]) >=6 and int(new_test['3'][i])<=8:\n",
    "        new_test['season'][i] = \"Summer\"\n",
    "    elif int(new_test['3'][i]) >=9 and int(new_test['3'][i])<=11:\n",
    "        new_test['season'][i] = \"Autumn\"\n",
    "    else:\n",
    "        new_test['season'][i] = \"Winter\""
   ]
  },
  {
   "cell_type": "code",
   "execution_count": 10,
   "metadata": {},
   "outputs": [],
   "source": [
    "#對缺值補值\n",
    "new_train=new_train.fillna(0)\n",
    "new_test=new_test.fillna(0)"
   ]
  },
  {
   "cell_type": "code",
   "execution_count": 11,
   "metadata": {},
   "outputs": [],
   "source": [
    "y=new_train['11']"
   ]
  },
  {
   "cell_type": "code",
   "execution_count": 12,
   "metadata": {},
   "outputs": [],
   "source": [
    "#挑選需要測試的特徵欄位\n",
    "new_train_backup = new_train\n",
    "new_test_backup = new_test\n",
    "new_train=pd.DataFrame(data=new_train_backup,columns=['3','4','5','9','10','14','18','season','weight','times'])\n",
    "new_test=pd.DataFrame(data=new_test_backup,columns=['3','4','5','9','10','14','18','season','weight','times'])"
   ]
  },
  {
   "cell_type": "code",
   "execution_count": 13,
   "metadata": {},
   "outputs": [
    {
     "data": {
      "text/html": [
       "<div>\n",
       "<style scoped>\n",
       "    .dataframe tbody tr th:only-of-type {\n",
       "        vertical-align: middle;\n",
       "    }\n",
       "\n",
       "    .dataframe tbody tr th {\n",
       "        vertical-align: top;\n",
       "    }\n",
       "\n",
       "    .dataframe thead th {\n",
       "        text-align: right;\n",
       "    }\n",
       "</style>\n",
       "<table border=\"1\" class=\"dataframe\">\n",
       "  <thead>\n",
       "    <tr style=\"text-align: right;\">\n",
       "      <th></th>\n",
       "      <th>3</th>\n",
       "      <th>4</th>\n",
       "      <th>5</th>\n",
       "      <th>9</th>\n",
       "      <th>10</th>\n",
       "      <th>14</th>\n",
       "      <th>18</th>\n",
       "      <th>season</th>\n",
       "      <th>weight</th>\n",
       "      <th>times</th>\n",
       "    </tr>\n",
       "  </thead>\n",
       "  <tbody>\n",
       "    <tr>\n",
       "      <th>0</th>\n",
       "      <td>2</td>\n",
       "      <td>0</td>\n",
       "      <td>0</td>\n",
       "      <td>1</td>\n",
       "      <td>78.0</td>\n",
       "      <td>26</td>\n",
       "      <td>1</td>\n",
       "      <td>1</td>\n",
       "      <td>568.152174</td>\n",
       "      <td>0.0</td>\n",
       "    </tr>\n",
       "    <tr>\n",
       "      <th>1</th>\n",
       "      <td>3</td>\n",
       "      <td>0</td>\n",
       "      <td>0</td>\n",
       "      <td>1</td>\n",
       "      <td>107.0</td>\n",
       "      <td>27</td>\n",
       "      <td>1</td>\n",
       "      <td>1</td>\n",
       "      <td>568.152174</td>\n",
       "      <td>0.0</td>\n",
       "    </tr>\n",
       "    <tr>\n",
       "      <th>2</th>\n",
       "      <td>4</td>\n",
       "      <td>0</td>\n",
       "      <td>0</td>\n",
       "      <td>1</td>\n",
       "      <td>140.0</td>\n",
       "      <td>28</td>\n",
       "      <td>2</td>\n",
       "      <td>1</td>\n",
       "      <td>568.152174</td>\n",
       "      <td>0.0</td>\n",
       "    </tr>\n",
       "    <tr>\n",
       "      <th>3</th>\n",
       "      <td>5</td>\n",
       "      <td>0</td>\n",
       "      <td>0</td>\n",
       "      <td>1</td>\n",
       "      <td>175.0</td>\n",
       "      <td>29</td>\n",
       "      <td>2</td>\n",
       "      <td>2</td>\n",
       "      <td>568.152174</td>\n",
       "      <td>0.0</td>\n",
       "    </tr>\n",
       "    <tr>\n",
       "      <th>4</th>\n",
       "      <td>6</td>\n",
       "      <td>0</td>\n",
       "      <td>0</td>\n",
       "      <td>1</td>\n",
       "      <td>210.0</td>\n",
       "      <td>30</td>\n",
       "      <td>2</td>\n",
       "      <td>2</td>\n",
       "      <td>568.152174</td>\n",
       "      <td>0.0</td>\n",
       "    </tr>\n",
       "  </tbody>\n",
       "</table>\n",
       "</div>"
      ],
      "text/plain": [
       "   3  4  5  9     10  14  18  season      weight  times\n",
       "0  2  0  0  1   78.0  26   1       1  568.152174    0.0\n",
       "1  3  0  0  1  107.0  27   1       1  568.152174    0.0\n",
       "2  4  0  0  1  140.0  28   2       1  568.152174    0.0\n",
       "3  5  0  0  1  175.0  29   2       2  568.152174    0.0\n",
       "4  6  0  0  1  210.0  30   2       2  568.152174    0.0"
      ]
     },
     "execution_count": 13,
     "metadata": {},
     "output_type": "execute_result"
    }
   ],
   "source": [
    "#把要one hot的類別轉換成數字\n",
    "from sklearn.preprocessing import LabelEncoder\n",
    "labelencoder = LabelEncoder()\n",
    "all_data=pd.concat([new_train,new_test])\n",
    "all_data['3'] = labelencoder.fit_transform(all_data['3'])\n",
    "all_data['4'] = labelencoder.fit_transform(all_data['4'])\n",
    "all_data['5'] = labelencoder.fit_transform(all_data['5'])\n",
    "# all_data['6'] = labelencoder.fit_transform(all_data['6'])\n",
    "all_data['season'] = labelencoder.fit_transform(all_data['season'])\n",
    "new_train = all_data[0:len(new_train)]\n",
    "new_test = all_data[len(new_train)::]\n",
    "all_data=pd.concat([new_train,new_test])\n",
    "all_data.head()"
   ]
  },
  {
   "cell_type": "code",
   "execution_count": 14,
   "metadata": {},
   "outputs": [
    {
     "name": "stderr",
     "output_type": "stream",
     "text": [
      "D:\\Anaconda3\\lib\\site-packages\\sklearn\\preprocessing\\_encoders.py:415: FutureWarning: The handling of integer data will change in version 0.22. Currently, the categories are determined based on the range [0, max(values)], while in the future they will be determined based on the unique values.\n",
      "If you want the future behaviour and silence this warning, you can specify \"categories='auto'\".\n",
      "In case you used a LabelEncoder before this OneHotEncoder to convert the categories to integers, then you can now use the OneHotEncoder directly.\n",
      "  warnings.warn(msg, FutureWarning)\n",
      "D:\\Anaconda3\\lib\\site-packages\\sklearn\\preprocessing\\_encoders.py:451: DeprecationWarning: The 'categorical_features' keyword is deprecated in version 0.20 and will be removed in 0.22. You can use the ColumnTransformer instead.\n",
      "  \"use the ColumnTransformer instead.\", DeprecationWarning)\n"
     ]
    },
    {
     "data": {
      "text/plain": [
       "(31740, 2251)"
      ]
     },
     "execution_count": 14,
     "metadata": {},
     "output_type": "execute_result"
    }
   ],
   "source": [
    "#把要的類別轉換成one hot\n",
    "import numpy as np\n",
    "from sklearn.preprocessing import OneHotEncoder\n",
    "\n",
    "enc = OneHotEncoder(categorical_features =[0,1,2,3,5,6,7,9])\n",
    "# enc = OneHotEncoder()\n",
    "enc.fit(all_data)\n",
    "X=enc.transform(new_train).toarray()\n",
    "X_test=enc.transform(new_test).toarray()\n",
    "X.shape"
   ]
  },
  {
   "cell_type": "code",
   "execution_count": 15,
   "metadata": {},
   "outputs": [],
   "source": [
    "#設定訓練集和驗證集\n",
    "from sklearn.model_selection import train_test_split\n",
    "\n",
    "x_train,x_test,y_train,y_test=train_test_split(X,y,test_size=0.2,random_state=2)"
   ]
  },
  {
   "cell_type": "code",
   "execution_count": 16,
   "metadata": {},
   "outputs": [
    {
     "name": "stderr",
     "output_type": "stream",
     "text": [
      "Using TensorFlow backend.\n"
     ]
    }
   ],
   "source": [
    "#定義RMSE\n",
    "from keras import backend as K\n",
    "def rmse(y_pred, y_true):\n",
    "    return K.sqrt(K.mean(K.square(y_pred - y_true)))"
   ]
  },
  {
   "cell_type": "code",
   "execution_count": 17,
   "metadata": {},
   "outputs": [
    {
     "name": "stdout",
     "output_type": "stream",
     "text": [
      "WARNING:tensorflow:From D:\\Anaconda3\\lib\\site-packages\\tensorflow\\python\\ops\\resource_variable_ops.py:435: colocate_with (from tensorflow.python.framework.ops) is deprecated and will be removed in a future version.\n",
      "Instructions for updating:\n",
      "Colocations handled automatically by placer.\n"
     ]
    }
   ],
   "source": [
    "#模型設定\n",
    "from keras.models import Sequential\n",
    "from keras.layers import Dense,Dropout,BatchNormalization\n",
    "from keras.optimizers import *\n",
    "\n",
    "model=Sequential()\n",
    "model.add(Dense(2048,input_dim=2251,activation='relu'))\n",
    "model.add(Dense(1024,activation='relu'))\n",
    "model.add(Dropout(0.1))\n",
    "model.add(Dense(1))\n",
    "model.compile(loss=rmse,optimizer=Adam(lr=1e-3),metrics=[rmse])"
   ]
  },
  {
   "cell_type": "code",
   "execution_count": 18,
   "metadata": {},
   "outputs": [
    {
     "name": "stdout",
     "output_type": "stream",
     "text": [
      "Train on 25392 samples, validate on 6348 samples\n",
      "Epoch 1/10\n",
      "25392/25392 [==============================] - 7s 263us/step - loss: 9.0748 - rmse: 9.0728 - val_loss: 6.4833 - val_rmse: 6.4754\n",
      "Epoch 2/10\n",
      "25392/25392 [==============================] - 6s 248us/step - loss: 6.4536 - rmse: 6.4545 - val_loss: 5.9534 - val_rmse: 5.9385\n",
      "Epoch 3/10\n",
      "25392/25392 [==============================] - 6s 247us/step - loss: 6.0294 - rmse: 6.0291 - val_loss: 5.8135 - val_rmse: 5.8026\n",
      "Epoch 4/10\n",
      "25392/25392 [==============================] - 6s 248us/step - loss: 5.8560 - rmse: 5.8558 - val_loss: 5.5832 - val_rmse: 5.5710\n",
      "Epoch 5/10\n",
      "25392/25392 [==============================] - 6s 248us/step - loss: 5.5821 - rmse: 5.5816 - val_loss: 6.1387 - val_rmse: 6.1309\n",
      "Epoch 6/10\n",
      "25392/25392 [==============================] - 6s 248us/step - loss: 5.4239 - rmse: 5.4238 - val_loss: 5.3569 - val_rmse: 5.3474\n",
      "Epoch 7/10\n",
      "25392/25392 [==============================] - 6s 248us/step - loss: 5.4094 - rmse: 5.4096 - val_loss: 5.6277 - val_rmse: 5.6157\n",
      "Epoch 8/10\n",
      "25392/25392 [==============================] - 6s 248us/step - loss: 5.3375 - rmse: 5.3377 - val_loss: 5.4148 - val_rmse: 5.3986\n",
      "Epoch 9/10\n",
      "25392/25392 [==============================] - 6s 248us/step - loss: 5.2130 - rmse: 5.2127 - val_loss: 5.4966 - val_rmse: 5.4803\n",
      "Epoch 10/10\n",
      "25392/25392 [==============================] - 6s 251us/step - loss: 5.2747 - rmse: 5.2736 - val_loss: 5.5762 - val_rmse: 5.5657\n"
     ]
    },
    {
     "data": {
      "text/plain": [
       "<keras.callbacks.callbacks.History at 0x24a1ce86c18>"
      ]
     },
     "execution_count": 18,
     "metadata": {},
     "output_type": "execute_result"
    }
   ],
   "source": [
    "#開始訓練\n",
    "model.fit(x_train,y_train,validation_data=(x_test,y_test),batch_size=64,epochs=10,verbose=1)"
   ]
  },
  {
   "cell_type": "code",
   "execution_count": 19,
   "metadata": {},
   "outputs": [
    {
     "data": {
      "text/plain": [
       "[<matplotlib.lines.Line2D at 0x24ae226bfd0>]"
      ]
     },
     "execution_count": 19,
     "metadata": {},
     "output_type": "execute_result"
    },
    {
     "data": {
      "image/png": "[encoded data removed]",
      "text/plain": [
       "<Figure size 1440x360 with 1 Axes>"
      ]
     },
     "metadata": {
      "needs_background": "light"
     },
     "output_type": "display_data"
    }
   ],
   "source": [
    "#劃出測試集預測結果\n",
    "import matplotlib.pyplot as plt\n",
    "%matplotlib inline\n",
    "\n",
    "prediction=model.predict(X_test)\n",
    "plt.figure(figsize=(20,5))\n",
    "plt.xlabel('Index',fontsize=20)\n",
    "plt.ylabel('Milk volume',fontsize=20)\n",
    "plt.plot(prediction)"
   ]
  },
  {
   "cell_type": "code",
   "execution_count": 20,
   "metadata": {},
   "outputs": [],
   "source": [
    "#輸出預測結果\n",
    "sub=pd.read_csv('./submission.csv',sep=',')\n",
    "sub['1']=prediction\n",
    "sub.to_csv('predict.csv',index=False)"
   ]
  },
  {
   "cell_type": "code",
   "execution_count": null,
   "metadata": {},
   "outputs": [],
   "source": []
  }
 ],
 "metadata": {
  "kernelspec": {
   "display_name": "Python 3",
   "language": "python",
   "name": "python3"
  },
  "language_info": {
   "codemirror_mode": {
    "name": "ipython",
    "version": 3
   },
   "file_extension": ".py",
   "mimetype": "text/x-python",
   "name": "python",
   "nbconvert_exporter": "python",
   "pygments_lexer": "ipython3",
   "version": "3.7.3"
  }
 },
 "nbformat": 4,
 "nbformat_minor": 2
}
